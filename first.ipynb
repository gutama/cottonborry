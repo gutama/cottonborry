{
  "cells": [
    {
      "cell_type": "code",
      "source": [
        "!pip install kingdon kingdon anywidget ipywidgets"
      ],
      "metadata": {
        "id": "wuw_6UL6VULq",
        "outputId": "f7daf048-2f4b-4e03-f25a-e1f7879d5e8c",
        "colab": {
          "base_uri": "https://localhost:8080/"
        }
      },
      "execution_count": 10,
      "outputs": [
        {
          "output_type": "stream",
          "name": "stdout",
          "text": [
            "Requirement already satisfied: kingdon in /usr/local/lib/python3.10/dist-packages (1.1.2)\n",
            "Requirement already satisfied: anywidget in /usr/local/lib/python3.10/dist-packages (0.9.13)\n",
            "Requirement already satisfied: ipywidgets in /usr/local/lib/python3.10/dist-packages (7.7.1)\n",
            "Requirement already satisfied: numpy in /usr/local/lib/python3.10/dist-packages (from kingdon) (1.26.4)\n",
            "Requirement already satisfied: sympy in /usr/local/lib/python3.10/dist-packages (from kingdon) (1.13.1)\n",
            "Requirement already satisfied: psygnal>=0.8.1 in /usr/local/lib/python3.10/dist-packages (from anywidget) (0.11.1)\n",
            "Requirement already satisfied: typing-extensions>=4.2.0 in /usr/local/lib/python3.10/dist-packages (from anywidget) (4.12.2)\n",
            "Requirement already satisfied: ipykernel>=4.5.1 in /usr/local/lib/python3.10/dist-packages (from ipywidgets) (5.5.6)\n",
            "Requirement already satisfied: ipython-genutils~=0.2.0 in /usr/local/lib/python3.10/dist-packages (from ipywidgets) (0.2.0)\n",
            "Requirement already satisfied: traitlets>=4.3.1 in /usr/local/lib/python3.10/dist-packages (from ipywidgets) (5.7.1)\n",
            "Requirement already satisfied: widgetsnbextension~=3.6.0 in /usr/local/lib/python3.10/dist-packages (from ipywidgets) (3.6.10)\n",
            "Requirement already satisfied: ipython>=4.0.0 in /usr/local/lib/python3.10/dist-packages (from ipywidgets) (7.34.0)\n",
            "Requirement already satisfied: jupyterlab-widgets>=1.0.0 in /usr/local/lib/python3.10/dist-packages (from ipywidgets) (3.0.13)\n",
            "Requirement already satisfied: jupyter-client in /usr/local/lib/python3.10/dist-packages (from ipykernel>=4.5.1->ipywidgets) (6.1.12)\n",
            "Requirement already satisfied: tornado>=4.2 in /usr/local/lib/python3.10/dist-packages (from ipykernel>=4.5.1->ipywidgets) (6.3.3)\n",
            "Requirement already satisfied: setuptools>=18.5 in /usr/local/lib/python3.10/dist-packages (from ipython>=4.0.0->ipywidgets) (75.1.0)\n",
            "Requirement already satisfied: jedi>=0.16 in /usr/local/lib/python3.10/dist-packages (from ipython>=4.0.0->ipywidgets) (0.19.2)\n",
            "Requirement already satisfied: decorator in /usr/local/lib/python3.10/dist-packages (from ipython>=4.0.0->ipywidgets) (4.4.2)\n",
            "Requirement already satisfied: pickleshare in /usr/local/lib/python3.10/dist-packages (from ipython>=4.0.0->ipywidgets) (0.7.5)\n",
            "Requirement already satisfied: prompt-toolkit!=3.0.0,!=3.0.1,<3.1.0,>=2.0.0 in /usr/local/lib/python3.10/dist-packages (from ipython>=4.0.0->ipywidgets) (3.0.48)\n",
            "Requirement already satisfied: pygments in /usr/local/lib/python3.10/dist-packages (from ipython>=4.0.0->ipywidgets) (2.18.0)\n",
            "Requirement already satisfied: backcall in /usr/local/lib/python3.10/dist-packages (from ipython>=4.0.0->ipywidgets) (0.2.0)\n",
            "Requirement already satisfied: matplotlib-inline in /usr/local/lib/python3.10/dist-packages (from ipython>=4.0.0->ipywidgets) (0.1.7)\n",
            "Requirement already satisfied: pexpect>4.3 in /usr/local/lib/python3.10/dist-packages (from ipython>=4.0.0->ipywidgets) (4.9.0)\n",
            "Requirement already satisfied: notebook>=4.4.1 in /usr/local/lib/python3.10/dist-packages (from widgetsnbextension~=3.6.0->ipywidgets) (6.5.5)\n",
            "Requirement already satisfied: mpmath<1.4,>=1.1.0 in /usr/local/lib/python3.10/dist-packages (from sympy->kingdon) (1.3.0)\n",
            "Requirement already satisfied: parso<0.9.0,>=0.8.4 in /usr/local/lib/python3.10/dist-packages (from jedi>=0.16->ipython>=4.0.0->ipywidgets) (0.8.4)\n",
            "Requirement already satisfied: jinja2 in /usr/local/lib/python3.10/dist-packages (from notebook>=4.4.1->widgetsnbextension~=3.6.0->ipywidgets) (3.1.4)\n",
            "Requirement already satisfied: pyzmq<25,>=17 in /usr/local/lib/python3.10/dist-packages (from notebook>=4.4.1->widgetsnbextension~=3.6.0->ipywidgets) (24.0.1)\n",
            "Requirement already satisfied: argon2-cffi in /usr/local/lib/python3.10/dist-packages (from notebook>=4.4.1->widgetsnbextension~=3.6.0->ipywidgets) (23.1.0)\n",
            "Requirement already satisfied: jupyter-core>=4.6.1 in /usr/local/lib/python3.10/dist-packages (from notebook>=4.4.1->widgetsnbextension~=3.6.0->ipywidgets) (5.7.2)\n",
            "Requirement already satisfied: nbformat in /usr/local/lib/python3.10/dist-packages (from notebook>=4.4.1->widgetsnbextension~=3.6.0->ipywidgets) (5.10.4)\n",
            "Requirement already satisfied: nbconvert>=5 in /usr/local/lib/python3.10/dist-packages (from notebook>=4.4.1->widgetsnbextension~=3.6.0->ipywidgets) (7.16.4)\n",
            "Requirement already satisfied: nest-asyncio>=1.5 in /usr/local/lib/python3.10/dist-packages (from notebook>=4.4.1->widgetsnbextension~=3.6.0->ipywidgets) (1.6.0)\n",
            "Requirement already satisfied: Send2Trash>=1.8.0 in /usr/local/lib/python3.10/dist-packages (from notebook>=4.4.1->widgetsnbextension~=3.6.0->ipywidgets) (1.8.3)\n",
            "Requirement already satisfied: terminado>=0.8.3 in /usr/local/lib/python3.10/dist-packages (from notebook>=4.4.1->widgetsnbextension~=3.6.0->ipywidgets) (0.18.1)\n",
            "Requirement already satisfied: prometheus-client in /usr/local/lib/python3.10/dist-packages (from notebook>=4.4.1->widgetsnbextension~=3.6.0->ipywidgets) (0.21.0)\n",
            "Requirement already satisfied: nbclassic>=0.4.7 in /usr/local/lib/python3.10/dist-packages (from notebook>=4.4.1->widgetsnbextension~=3.6.0->ipywidgets) (1.1.0)\n",
            "Requirement already satisfied: python-dateutil>=2.1 in /usr/local/lib/python3.10/dist-packages (from jupyter-client->ipykernel>=4.5.1->ipywidgets) (2.8.2)\n",
            "Requirement already satisfied: ptyprocess>=0.5 in /usr/local/lib/python3.10/dist-packages (from pexpect>4.3->ipython>=4.0.0->ipywidgets) (0.7.0)\n",
            "Requirement already satisfied: wcwidth in /usr/local/lib/python3.10/dist-packages (from prompt-toolkit!=3.0.0,!=3.0.1,<3.1.0,>=2.0.0->ipython>=4.0.0->ipywidgets) (0.2.13)\n",
            "Requirement already satisfied: platformdirs>=2.5 in /usr/local/lib/python3.10/dist-packages (from jupyter-core>=4.6.1->notebook>=4.4.1->widgetsnbextension~=3.6.0->ipywidgets) (4.3.6)\n",
            "Requirement already satisfied: notebook-shim>=0.2.3 in /usr/local/lib/python3.10/dist-packages (from nbclassic>=0.4.7->notebook>=4.4.1->widgetsnbextension~=3.6.0->ipywidgets) (0.2.4)\n",
            "Requirement already satisfied: beautifulsoup4 in /usr/local/lib/python3.10/dist-packages (from nbconvert>=5->notebook>=4.4.1->widgetsnbextension~=3.6.0->ipywidgets) (4.12.3)\n",
            "Requirement already satisfied: bleach!=5.0.0 in /usr/local/lib/python3.10/dist-packages (from nbconvert>=5->notebook>=4.4.1->widgetsnbextension~=3.6.0->ipywidgets) (6.2.0)\n",
            "Requirement already satisfied: defusedxml in /usr/local/lib/python3.10/dist-packages (from nbconvert>=5->notebook>=4.4.1->widgetsnbextension~=3.6.0->ipywidgets) (0.7.1)\n",
            "Requirement already satisfied: jupyterlab-pygments in /usr/local/lib/python3.10/dist-packages (from nbconvert>=5->notebook>=4.4.1->widgetsnbextension~=3.6.0->ipywidgets) (0.3.0)\n",
            "Requirement already satisfied: markupsafe>=2.0 in /usr/local/lib/python3.10/dist-packages (from nbconvert>=5->notebook>=4.4.1->widgetsnbextension~=3.6.0->ipywidgets) (3.0.2)\n",
            "Requirement already satisfied: mistune<4,>=2.0.3 in /usr/local/lib/python3.10/dist-packages (from nbconvert>=5->notebook>=4.4.1->widgetsnbextension~=3.6.0->ipywidgets) (3.0.2)\n",
            "Requirement already satisfied: nbclient>=0.5.0 in /usr/local/lib/python3.10/dist-packages (from nbconvert>=5->notebook>=4.4.1->widgetsnbextension~=3.6.0->ipywidgets) (0.10.0)\n",
            "Requirement already satisfied: packaging in /usr/local/lib/python3.10/dist-packages (from nbconvert>=5->notebook>=4.4.1->widgetsnbextension~=3.6.0->ipywidgets) (24.2)\n",
            "Requirement already satisfied: pandocfilters>=1.4.1 in /usr/local/lib/python3.10/dist-packages (from nbconvert>=5->notebook>=4.4.1->widgetsnbextension~=3.6.0->ipywidgets) (1.5.1)\n",
            "Requirement already satisfied: tinycss2 in /usr/local/lib/python3.10/dist-packages (from nbconvert>=5->notebook>=4.4.1->widgetsnbextension~=3.6.0->ipywidgets) (1.4.0)\n",
            "Requirement already satisfied: fastjsonschema>=2.15 in /usr/local/lib/python3.10/dist-packages (from nbformat->notebook>=4.4.1->widgetsnbextension~=3.6.0->ipywidgets) (2.20.0)\n",
            "Requirement already satisfied: jsonschema>=2.6 in /usr/local/lib/python3.10/dist-packages (from nbformat->notebook>=4.4.1->widgetsnbextension~=3.6.0->ipywidgets) (4.23.0)\n",
            "Requirement already satisfied: six>=1.5 in /usr/local/lib/python3.10/dist-packages (from python-dateutil>=2.1->jupyter-client->ipykernel>=4.5.1->ipywidgets) (1.16.0)\n",
            "Requirement already satisfied: argon2-cffi-bindings in /usr/local/lib/python3.10/dist-packages (from argon2-cffi->notebook>=4.4.1->widgetsnbextension~=3.6.0->ipywidgets) (21.2.0)\n",
            "Requirement already satisfied: webencodings in /usr/local/lib/python3.10/dist-packages (from bleach!=5.0.0->nbconvert>=5->notebook>=4.4.1->widgetsnbextension~=3.6.0->ipywidgets) (0.5.1)\n",
            "Requirement already satisfied: attrs>=22.2.0 in /usr/local/lib/python3.10/dist-packages (from jsonschema>=2.6->nbformat->notebook>=4.4.1->widgetsnbextension~=3.6.0->ipywidgets) (24.2.0)\n",
            "Requirement already satisfied: jsonschema-specifications>=2023.03.6 in /usr/local/lib/python3.10/dist-packages (from jsonschema>=2.6->nbformat->notebook>=4.4.1->widgetsnbextension~=3.6.0->ipywidgets) (2024.10.1)\n",
            "Requirement already satisfied: referencing>=0.28.4 in /usr/local/lib/python3.10/dist-packages (from jsonschema>=2.6->nbformat->notebook>=4.4.1->widgetsnbextension~=3.6.0->ipywidgets) (0.35.1)\n",
            "Requirement already satisfied: rpds-py>=0.7.1 in /usr/local/lib/python3.10/dist-packages (from jsonschema>=2.6->nbformat->notebook>=4.4.1->widgetsnbextension~=3.6.0->ipywidgets) (0.21.0)\n",
            "Requirement already satisfied: jupyter-server<3,>=1.8 in /usr/local/lib/python3.10/dist-packages (from notebook-shim>=0.2.3->nbclassic>=0.4.7->notebook>=4.4.1->widgetsnbextension~=3.6.0->ipywidgets) (1.24.0)\n",
            "Requirement already satisfied: cffi>=1.0.1 in /usr/local/lib/python3.10/dist-packages (from argon2-cffi-bindings->argon2-cffi->notebook>=4.4.1->widgetsnbextension~=3.6.0->ipywidgets) (1.17.1)\n",
            "Requirement already satisfied: soupsieve>1.2 in /usr/local/lib/python3.10/dist-packages (from beautifulsoup4->nbconvert>=5->notebook>=4.4.1->widgetsnbextension~=3.6.0->ipywidgets) (2.6)\n",
            "Requirement already satisfied: pycparser in /usr/local/lib/python3.10/dist-packages (from cffi>=1.0.1->argon2-cffi-bindings->argon2-cffi->notebook>=4.4.1->widgetsnbextension~=3.6.0->ipywidgets) (2.22)\n",
            "Requirement already satisfied: anyio<4,>=3.1.0 in /usr/local/lib/python3.10/dist-packages (from jupyter-server<3,>=1.8->notebook-shim>=0.2.3->nbclassic>=0.4.7->notebook>=4.4.1->widgetsnbextension~=3.6.0->ipywidgets) (3.7.1)\n",
            "Requirement already satisfied: websocket-client in /usr/local/lib/python3.10/dist-packages (from jupyter-server<3,>=1.8->notebook-shim>=0.2.3->nbclassic>=0.4.7->notebook>=4.4.1->widgetsnbextension~=3.6.0->ipywidgets) (1.8.0)\n",
            "Requirement already satisfied: idna>=2.8 in /usr/local/lib/python3.10/dist-packages (from anyio<4,>=3.1.0->jupyter-server<3,>=1.8->notebook-shim>=0.2.3->nbclassic>=0.4.7->notebook>=4.4.1->widgetsnbextension~=3.6.0->ipywidgets) (3.10)\n",
            "Requirement already satisfied: sniffio>=1.1 in /usr/local/lib/python3.10/dist-packages (from anyio<4,>=3.1.0->jupyter-server<3,>=1.8->notebook-shim>=0.2.3->nbclassic>=0.4.7->notebook>=4.4.1->widgetsnbextension~=3.6.0->ipywidgets) (1.3.1)\n",
            "Requirement already satisfied: exceptiongroup in /usr/local/lib/python3.10/dist-packages (from anyio<4,>=3.1.0->jupyter-server<3,>=1.8->notebook-shim>=0.2.3->nbclassic>=0.4.7->notebook>=4.4.1->widgetsnbextension~=3.6.0->ipywidgets) (1.2.2)\n"
          ]
        }
      ]
    },
    {
      "cell_type": "code",
      "execution_count": 3,
      "metadata": {
        "id": "h4LGNufJVNKS"
      },
      "outputs": [],
      "source": [
        "from kingdon import *"
      ]
    },
    {
      "cell_type": "code",
      "source": [
        "alg = Algebra(3, 0, 1)\n",
        "locals().update(alg.blades)\n",
        "b = 2 * e12\n",
        "v = 3 * e1\n",
        "b * v"
      ],
      "metadata": {
        "id": "8gkHk9W_YXKD",
        "outputId": "7b52c78f-c443-48ac-b6a4-10de3cc6a807",
        "colab": {
          "base_uri": "https://localhost:8080/"
        }
      },
      "execution_count": 11,
      "outputs": [
        {
          "output_type": "execute_result",
          "data": {
            "text/plain": [
              "-6 𝐞₂"
            ]
          },
          "metadata": {},
          "execution_count": 11
        }
      ]
    },
    {
      "cell_type": "code",
      "execution_count": 13,
      "metadata": {
        "id": "4Iljyn7PVNKT",
        "outputId": "63065fed-3918-471b-86af-97c1b7b5ac51",
        "colab": {
          "base_uri": "https://localhost:8080/",
          "height": 17,
          "referenced_widgets": [
            "0109b3e6d45148cfb4de6d2f052992ce",
            "580dd2b519ab43b3bbe099c0445aeabd"
          ]
        }
      },
      "outputs": [
        {
          "output_type": "display_data",
          "data": {
            "text/plain": [
              "GraphWidget(cayley=[['1', 'e0', 'e1', 'e2', 'e01', 'e02', 'e12', 'e012'], ['e0', '0', 'e01', 'e02', '0', '0', …"
            ],
            "application/vnd.jupyter.widget-view+json": {
              "version_major": 2,
              "version_minor": 0,
              "model_id": "0109b3e6d45148cfb4de6d2f052992ce"
            }
          },
          "metadata": {
            "application/vnd.jupyter.widget-view+json": {
              "colab": {
                "custom_widget_manager": {
                  "url": "https://ssl.gstatic.com/colaboratory-static/widgets/colab-cdn-widget-manager/2b70e893a8ba7c0f/manager.min.js"
                }
              }
            }
          }
        }
      ],
      "source": [
        "d = 2\n",
        "alg = Algebra(d, 0, 1)\n",
        "globals().update(alg.blades)\n",
        "\n",
        "# Properties of the lens\n",
        "axis = e0\n",
        "lens = e1\n",
        "center_point = e0.dual()\n",
        "focal = (e0 + -0.8*e1).dual()\n",
        "center = e0.dual()\n",
        "\n",
        "# object to image\n",
        "world = (e0 - 2*e1 - e2).dual()\n",
        "\n",
        "wc = world & center\n",
        "wf = world & focal\n",
        "wfl = wf ^ lens\n",
        "wfl_dot_l = wfl | (center_point & wfl)\n",
        "img = wfl_dot_l ^ wc\n",
        "\n",
        "alg.graph(\n",
        "    world,\n",
        "    axis, lens, center, focal, 'f',\n",
        "    wf, wc, wfl, lens | wfl,\n",
        "    img,\n",
        ")"
      ]
    }
  ],
  "metadata": {
    "kernelspec": {
      "display_name": "Python 3",
      "language": "python",
      "name": "python3"
    },
    "language_info": {
      "codemirror_mode": {
        "name": "ipython",
        "version": 3
      },
      "file_extension": ".py",
      "mimetype": "text/x-python",
      "name": "python",
      "nbconvert_exporter": "python",
      "pygments_lexer": "ipython3",
      "version": "3.10.9"
    },
    "colab": {
      "provenance": []
    },
    "widgets": {
      "application/vnd.jupyter.widget-state+json": {
        "0109b3e6d45148cfb4de6d2f052992ce": {
          "model_module": "anywidget",
          "model_name": "AnyModel",
          "model_module_version": "~0.9.*",
          "state": {
            "_anywidget_id": "kingdon.graph.GraphWidget",
            "_dom_classes": [],
            "_esm": "const Algebra = await fetch(\"https://enki.ws/ganja.js/ganja.js\")\n                      .then(x=>x.text())\n                      .then(x=>{ const ctx = {}; (new Function('const define=1;'+x)).apply(ctx); return ctx.Algebra });\n\nfunction render({ model, el }) {\n    var canvas = Algebra({metric: model.get('signature')}).inline((model)=>{\n        // Define constants\n        var key2idx = model.get('key2idx');\n        var draggable_points_idxs = model.get('draggable_points_idxs');\n        var options = model.get('options');\n\n        // Define helper functions.\n        var toElement = (o)=>{\n            /* convert object to Element */\n            var _values = o['mv'] instanceof DataView?new Float64Array(o['mv'].buffer):o['mv'];\n            if ('keys' in o) {\n                var values = Array(Object.keys(key2idx).length).fill(0);\n                o['keys'].forEach((k, j)=>values[key2idx[k]] = _values[j]);\n                return new Element(values);\n            }\n            return new Element(_values);\n        }\n        var decode = x=>typeof x === 'object' && 'mv' in x?toElement(x):Array.isArray(x)?x.map(decode):x;\n        var encode = x=>x instanceof Element?({mv:[...x]}):x?.map?x.map(encode):x;\n\n        // Decode camera if provided.\n         if (options?.camera && typeof options.camera === 'object' && 'mv' in options.camera) {\n             options.camera = toElement(options.camera)\n         }\n\n        if (options?.animate) {\n            var graph_func = ()=>{\n                if (canvas?.value && draggable_points_idxs?.length) {\n                    model.set('draggable_points', encode(draggable_points_idxs.map(i=>canvas.value[i])));\n                    model.save_changes();\n                }\n                // Send an update request. This drives the event loop.\n                model.send({ type: \"update_mvs\" });\n                var subjects = decode(model.get('subjects'));\n                return [...subjects];\n            }\n        } else {\n            var graph_func = ()=>{\n                if (canvas?.value && draggable_points_idxs?.length) {\n                    model.set('draggable_points', encode(draggable_points_idxs.map(i=>canvas.value[i])));\n                    model.save_changes();\n                }\n                var subjects = decode(model.get('subjects'));\n                return [...subjects];\n            }\n\n            // This ensures the remake is always called one last time to show the final position.\n            model.on(\"change:subjects\", ()=>{\n                if (canvas.remake) canvas = canvas.remake(0);\n                if (canvas.update) canvas.update(canvas.value);\n            });\n        }\n\n        var canvas;\n        canvas = this.graph(graph_func, options)\n        return canvas;\n    })(model)\n\n    var options = model.get('options');\n    canvas.style.width = options?.width || `min( 100%, 1024px )`;\n    canvas.style.height = options?.height || 'auto';\n    canvas.style.aspectRatio = '16 / 6';\n    canvas.style.background = 'white';\n    canvas.style.marginLeft = `calc( (100% - ${ options?.width??\"min(100%, 1024px)\" }) / 2 )`;\n    el.appendChild(canvas);\n}\n\nexport default { render };\n",
            "_model_module": "anywidget",
            "_model_module_version": "~0.9.*",
            "_model_name": "AnyModel",
            "_view_count": null,
            "_view_module": "anywidget",
            "_view_module_version": "~0.9.*",
            "_view_name": "AnyView",
            "cayley": [
              [
                "1",
                "e0",
                "e1",
                "e2",
                "e01",
                "e02",
                "e12",
                "e012"
              ],
              [
                "e0",
                "0",
                "e01",
                "e02",
                "0",
                "0",
                "e012",
                "0"
              ],
              [
                "e1",
                "-e01",
                "1",
                "e12",
                "-e0",
                "-e012",
                "e2",
                "-e02"
              ],
              [
                "e2",
                "-e02",
                "-e12",
                "1",
                "e012",
                "-e0",
                "-e1",
                "e01"
              ],
              [
                "e01",
                "0",
                "e0",
                "e012",
                "0",
                "0",
                "e02",
                "0"
              ],
              [
                "e02",
                "0",
                "-e012",
                "e0",
                "0",
                "0",
                "-e01",
                "0"
              ],
              [
                "e12",
                "e012",
                "-e2",
                "e1",
                "-e02",
                "e01",
                "-1",
                "-e0"
              ],
              [
                "e012",
                "0",
                "-e02",
                "e01",
                "0",
                "0",
                "-e0",
                "0"
              ]
            ],
            "draggable_points": [
              [
                {
                  "mv": [
                    -1,
                    2,
                    1
                  ],
                  "keys": [
                    3,
                    5,
                    6
                  ]
                },
                {
                  "mv": [
                    1
                  ],
                  "keys": [
                    6
                  ]
                },
                {
                  "mv": [
                    0.8,
                    1
                  ],
                  "keys": [
                    5,
                    6
                  ]
                },
                {
                  "mv": [
                    -0.8,
                    -1.2
                  ],
                  "keys": [
                    3,
                    6
                  ]
                },
                {
                  "mv": [
                    0.6400000000000001,
                    -1.2800000000000002,
                    0.96
                  ],
                  "keys": [
                    3,
                    5,
                    6
                  ]
                }
              ]
            ],
            "draggable_points_idxs": [
              0,
              3,
              4,
              8,
              10
            ],
            "key2idx": {
              "0": 0,
              "1": 1,
              "2": 2,
              "3": 4,
              "4": 3,
              "5": 5,
              "6": 6,
              "7": 7
            },
            "layout": "IPY_MODEL_580dd2b519ab43b3bbe099c0445aeabd",
            "options": {},
            "signature": [
              0,
              1,
              1
            ],
            "subjects": [
              {
                "mv": [
                  -1,
                  2,
                  1
                ],
                "keys": [
                  3,
                  5,
                  6
                ]
              },
              {
                "mv": [
                  1
                ],
                "keys": [
                  1
                ]
              },
              {
                "mv": [
                  1
                ],
                "keys": [
                  2
                ]
              },
              {
                "mv": [
                  1
                ],
                "keys": [
                  6
                ]
              },
              {
                "mv": [
                  0.8,
                  1
                ],
                "keys": [
                  5,
                  6
                ]
              },
              "f",
              {
                "mv": [
                  -0.8,
                  -1,
                  1.2
                ],
                "keys": [
                  1,
                  2,
                  4
                ]
              },
              {
                "mv": [
                  -1,
                  2
                ],
                "keys": [
                  2,
                  4
                ]
              },
              {
                "mv": [
                  -0.8,
                  -1.2
                ],
                "keys": [
                  3,
                  6
                ]
              },
              {
                "mv": [
                  0.8,
                  -1.2
                ],
                "keys": [
                  1,
                  4
                ]
              },
              {
                "mv": [
                  0.6400000000000001,
                  -1.2800000000000002,
                  0.96
                ],
                "keys": [
                  3,
                  5,
                  6
                ]
              }
            ]
          }
        },
        "580dd2b519ab43b3bbe099c0445aeabd": {
          "model_module": "@jupyter-widgets/base",
          "model_name": "LayoutModel",
          "model_module_version": "1.2.0",
          "state": {
            "_model_module": "@jupyter-widgets/base",
            "_model_module_version": "1.2.0",
            "_model_name": "LayoutModel",
            "_view_count": null,
            "_view_module": "@jupyter-widgets/base",
            "_view_module_version": "1.2.0",
            "_view_name": "LayoutView",
            "align_content": null,
            "align_items": null,
            "align_self": null,
            "border": null,
            "bottom": null,
            "display": null,
            "flex": null,
            "flex_flow": null,
            "grid_area": null,
            "grid_auto_columns": null,
            "grid_auto_flow": null,
            "grid_auto_rows": null,
            "grid_column": null,
            "grid_gap": null,
            "grid_row": null,
            "grid_template_areas": null,
            "grid_template_columns": null,
            "grid_template_rows": null,
            "height": null,
            "justify_content": null,
            "justify_items": null,
            "left": null,
            "margin": null,
            "max_height": null,
            "max_width": null,
            "min_height": null,
            "min_width": null,
            "object_fit": null,
            "object_position": null,
            "order": null,
            "overflow": null,
            "overflow_x": null,
            "overflow_y": null,
            "padding": null,
            "right": null,
            "top": null,
            "visibility": null,
            "width": null
          }
        }
      }
    }
  },
  "nbformat": 4,
  "nbformat_minor": 0
}