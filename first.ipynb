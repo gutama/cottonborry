{
 "cells": [
  {
   "cell_type": "code",
   "execution_count": null,
   "metadata": {},
   "outputs": [],
   "source": [
    "from kingdon import *"
   ]
  },
  {
   "cell_type": "code",
   "execution_count": 5,
   "metadata": {},
   "outputs": [
    {
     "data": {
      "application/vnd.jupyter.widget-view+json": {
       "model_id": "748812ab524a4466971ed2b4cc66482e",
       "version_major": 2,
       "version_minor": 1
      },
      "text/plain": [
       "GraphWidget(cayley=[['1', 'e0', 'e1', 'e2', 'e01', 'e02', 'e12', 'e012'], ['e0', '0', 'e01', 'e02', '0', '0', …"
      ]
     },
     "execution_count": 5,
     "metadata": {},
     "output_type": "execute_result"
    }
   ],
   "source": [
    "d = 2\n",
    "alg = Algebra(d, 0, 1)\n",
    "globals().update(alg.blades)\n",
    "\n",
    "# Properties of the lens\n",
    "axis = e0\n",
    "lens = e1\n",
    "center_point = e0.dual()\n",
    "focal = (e0 + -0.8*e1).dual()\n",
    "center = e0.dual()\n",
    "\n",
    "# object to image\n",
    "world = (e0 - 2*e1 - e2).dual()\n",
    "\n",
    "wc = world & center\n",
    "wf = world & focal\n",
    "wfl = wf ^ lens\n",
    "wfl_dot_l = wfl | (center_point & wfl)\n",
    "img = wfl_dot_l ^ wc\n",
    "\n",
    "alg.graph(\n",
    "    world,\n",
    "    axis, lens, center, focal, 'f',\n",
    "    wf, wc, wfl, lens | wfl,\n",
    "    img,\n",
    ")"
   ]
  }
 ],
 "metadata": {
  "kernelspec": {
   "display_name": "Python 3",
   "language": "python",
   "name": "python3"
  },
  "language_info": {
   "codemirror_mode": {
    "name": "ipython",
    "version": 3
   },
   "file_extension": ".py",
   "mimetype": "text/x-python",
   "name": "python",
   "nbconvert_exporter": "python",
   "pygments_lexer": "ipython3",
   "version": "3.10.9"
  }
 },
 "nbformat": 4,
 "nbformat_minor": 2
}
